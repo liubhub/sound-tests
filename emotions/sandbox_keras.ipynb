{
 "cells": [
  {
   "cell_type": "code",
   "execution_count": 1,
   "metadata": {},
   "outputs": [
    {
     "name": "stderr",
     "output_type": "stream",
     "text": [
      "/home/lovely/anaconda3/lib/python3.6/site-packages/h5py/__init__.py:36: FutureWarning: Conversion of the second argument of issubdtype from `float` to `np.floating` is deprecated. In future, it will be treated as `np.float64 == np.dtype(float).type`.\n",
      "  from ._conv import register_converters as _register_converters\n",
      "Using TensorFlow backend.\n"
     ]
    }
   ],
   "source": [
    "from keras import layers, models\n",
    "from keras.applications import VGG16\n",
    "from keras.regularizers import l2"
   ]
  },
  {
   "cell_type": "code",
   "execution_count": 2,
   "metadata": {},
   "outputs": [],
   "source": [
    "def vgg16_model(opt, shape):    \n",
    "    vgg16_model = VGG16(weights = 'imagenet', \n",
    "                        include_top = False, \n",
    "                        input_shape = shape, \n",
    "                        classes = 1)\n",
    "    \n",
    "#     for layer in vgg16_model.layers:\n",
    "#         layer.trainable = False\n",
    "    \n",
    "    for layer in vgg16_model.layers:\n",
    "        if isinstance(layer, layers.Conv2D):\n",
    "            layer.kernel_regularizer = l2(0.001)\n",
    "    \n",
    "    x = vgg16_model.get_layer('block5_pool').output \n",
    "    x = layers.GlobalMaxPooling2D()(x)\n",
    "    layer = layers.Dense(512, activation = 'relu', name = 'fully_connected_1')(x)\n",
    "    layer = layers.Dropout(0.3)(layer)\n",
    "    layer = layers.Dense(512, activation = 'relu', name = 'fully_connected_2')(layer) \n",
    "    layer = layers.Dropout(0.3)(layer)\n",
    "    \n",
    "    predictions = layers.Dense(1, activation = 'sigmoid')(layer)\n",
    "    \n",
    "    model = models.Model(input = [vgg16_model.input], output = predictions)\n",
    "    model.compile(\n",
    "                loss='categorical_crossentropy',\n",
    "                optimizer=opt,\n",
    "                metrics=['accuracy']\n",
    "              )\n",
    "    return model"
   ]
  },
  {
   "cell_type": "code",
   "execution_count": 3,
   "metadata": {},
   "outputs": [
    {
     "name": "stderr",
     "output_type": "stream",
     "text": [
      "/home/lovely/anaconda3/lib/python3.6/site-packages/ipykernel_launcher.py:23: UserWarning: Update your `Model` call to the Keras 2 API: `Model(inputs=[<tf.Tenso..., outputs=Tensor(\"de...)`\n"
     ]
    }
   ],
   "source": [
    "model = vgg16_model('rmsprop', (75, 75, 3))"
   ]
  },
  {
   "cell_type": "code",
   "execution_count": null,
   "metadata": {},
   "outputs": [],
   "source": [
    "# from keras.applications import "
   ]
  },
  {
   "cell_type": "code",
   "execution_count": null,
   "metadata": {},
   "outputs": [],
   "source": []
  },
  {
   "cell_type": "code",
   "execution_count": null,
   "metadata": {},
   "outputs": [],
   "source": []
  },
  {
   "cell_type": "code",
   "execution_count": 7,
   "metadata": {},
   "outputs": [],
   "source": [
    "from keras.models import Sequential\n",
    "from keras.layers.core import Dense, Dropout, Activation, Flatten\n",
    "from keras.layers.convolutional import Convolution2D, MaxPooling2D, Conv2D\n",
    "from keras.layers.normalization import BatchNormalization\n",
    "from keras.layers import Lambda\n",
    "from keras import backend as K"
   ]
  },
  {
   "cell_type": "code",
   "execution_count": 11,
   "metadata": {},
   "outputs": [],
   "source": [
    "model = models.Sequential()\n",
    "model.add(layers.Convolution2D(16, kernel_size=(3,3), input_shape=(128,495,1), padding='valid'))\n",
    "# model.add(BatchNormalization())\n",
    "model.add(layers.Activation('relu'))\n",
    "model.add(layers.MaxPooling2D(pool_size=(2, 2)))"
   ]
  },
  {
   "cell_type": "code",
   "execution_count": 12,
   "metadata": {},
   "outputs": [],
   "source": [
    "model.add(Flatten())\n",
    "model.add(Dense(256))\n",
    "model.add(Activation('relu'))\n",
    "model.add(Dense(8))\n",
    "model.add(Lambda(lambda x: K.tf.nn.softmax(x)))"
   ]
  },
  {
   "cell_type": "code",
   "execution_count": 13,
   "metadata": {},
   "outputs": [
    {
     "name": "stdout",
     "output_type": "stream",
     "text": [
      "_________________________________________________________________\n",
      "Layer (type)                 Output Shape              Param #   \n",
      "=================================================================\n",
      "conv2d_3 (Conv2D)            (None, 126, 493, 16)      160       \n",
      "_________________________________________________________________\n",
      "activation_4 (Activation)    (None, 126, 493, 16)      0         \n",
      "_________________________________________________________________\n",
      "max_pooling2d_3 (MaxPooling2 (None, 63, 246, 16)       0         \n",
      "_________________________________________________________________\n",
      "flatten_2 (Flatten)          (None, 247968)            0         \n",
      "_________________________________________________________________\n",
      "dense_4 (Dense)              (None, 256)               63480064  \n",
      "_________________________________________________________________\n",
      "activation_5 (Activation)    (None, 256)               0         \n",
      "_________________________________________________________________\n",
      "dense_5 (Dense)              (None, 8)                 2056      \n",
      "_________________________________________________________________\n",
      "lambda_2 (Lambda)            (None, 8)                 0         \n",
      "=================================================================\n",
      "Total params: 63,482,280\n",
      "Trainable params: 63,482,280\n",
      "Non-trainable params: 0\n",
      "_________________________________________________________________\n"
     ]
    }
   ],
   "source": [
    "model.summary()"
   ]
  },
  {
   "cell_type": "code",
   "execution_count": null,
   "metadata": {},
   "outputs": [],
   "source": []
  }
 ],
 "metadata": {
  "kernelspec": {
   "display_name": "Python 3",
   "language": "python",
   "name": "python3"
  },
  "language_info": {
   "codemirror_mode": {
    "name": "ipython",
    "version": 3
   },
   "file_extension": ".py",
   "mimetype": "text/x-python",
   "name": "python",
   "nbconvert_exporter": "python",
   "pygments_lexer": "ipython3",
   "version": "3.6.4"
  }
 },
 "nbformat": 4,
 "nbformat_minor": 2
}
