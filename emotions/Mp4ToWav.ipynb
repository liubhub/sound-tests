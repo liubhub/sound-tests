{
 "cells": [
  {
   "cell_type": "code",
   "execution_count": 56,
   "metadata": {},
   "outputs": [],
   "source": [
    "import os\n",
    "import subprocess"
   ]
  },
  {
   "cell_type": "code",
   "execution_count": 3,
   "metadata": {},
   "outputs": [
    {
     "name": "stdout",
     "output_type": "stream",
     "text": [
      "0_all_songs  0_all_speech  descr.txt  dump  renamed_sources  video\r\n"
     ]
    }
   ],
   "source": [
    "!ls RAVDESS"
   ]
  },
  {
   "cell_type": "code",
   "execution_count": 15,
   "metadata": {},
   "outputs": [],
   "source": [
    "path = \"RAVDESS/video\"\n",
    "save_path = \"0_all_wav_data\""
   ]
  },
  {
   "cell_type": "code",
   "execution_count": 73,
   "metadata": {},
   "outputs": [],
   "source": [
    "# to wav\n",
    "home = \"/home/lovely/Документы/univer/emotions/\""
   ]
  },
  {
   "cell_type": "code",
   "execution_count": 102,
   "metadata": {},
   "outputs": [
    {
     "name": "stdout",
     "output_type": "stream",
     "text": [
      "CPU times: user 930 ms, sys: 6.05 s, total: 6.98 s\n",
      "Wall time: 3min 32s\n"
     ]
    }
   ],
   "source": [
    "%%time\n",
    "for root, dirs, files in os.walk(path):\n",
    "    for d in dirs:\n",
    "        for _filename in os.listdir(path + '/' + d):\n",
    "            if _filename.endswith('.mp4'):\n",
    "                command = \"ffmpeg -i {}\".format(home)+path+\\\n",
    "                \"/\"+d+\"/\"+_filename+\" -ab 160k -ac 2 -ar 44100 -vn {}\".format(home)+path.split('v')[0]+ \\\n",
    "                \"wav_from_video\"+\"/\"+_filename[:21] + \"wav\"\n",
    "\n",
    "#                 print(command)\n",
    "#                 break\n",
    "#         break\n",
    "#     break\n",
    "            \n",
    "            # Execute conversion\n",
    "            try:\n",
    "                subprocess.call(command, shell=True)\n",
    "                \n",
    "            # Skip the file in case of error\n",
    "            except ValueError:\n",
    "                print(d, _filename)\n",
    "                continue\n",
    "            \n",
    "            \n"
   ]
  },
  {
   "cell_type": "code",
   "execution_count": 89,
   "metadata": {},
   "outputs": [
    {
     "data": {
      "text/plain": [
       "'ffmpeg -i /home/lovely/Документы/univer/emotions/RAVDESS/video/Actor_02/02-01-03-02-01-01-02.mp4 -ab 160k -ac 2 -ar 44100 -vn /home/lovely/Документы/univer/emotions/RAVDESS/video/Actor_02/02-01-03-02-01-01-02.wav'"
      ]
     },
     "execution_count": 89,
     "metadata": {},
     "output_type": "execute_result"
    }
   ],
   "source": [
    "command"
   ]
  },
  {
   "cell_type": "code",
   "execution_count": null,
   "metadata": {},
   "outputs": [],
   "source": []
  },
  {
   "cell_type": "code",
   "execution_count": null,
   "metadata": {},
   "outputs": [],
   "source": []
  },
  {
   "cell_type": "code",
   "execution_count": null,
   "metadata": {},
   "outputs": [],
   "source": []
  },
  {
   "cell_type": "code",
   "execution_count": 16,
   "metadata": {},
   "outputs": [],
   "source": [
    "emotions_dict = {\n",
    "    '01':'neutral',\n",
    "    '02':'calm',\n",
    "    '03':'happy',\n",
    "    '04':'sad',\n",
    "    '05':'angry',\n",
    "    '06':'fearful',\n",
    "    '07':'disgust',\n",
    "    '08': 'surprised'\n",
    "}\n",
    "intensity_dict = {\n",
    "    '01':'normal',\n",
    "    '02':'strong'\n",
    "}\n",
    "def isOdd(n):\n",
    "    return int(n) % 2 != 0"
   ]
  },
  {
   "cell_type": "code",
   "execution_count": 106,
   "metadata": {},
   "outputs": [],
   "source": [
    "speech_path = \"RAVDESS/wav_from_video\""
   ]
  },
  {
   "cell_type": "code",
   "execution_count": 115,
   "metadata": {},
   "outputs": [],
   "source": [
    "i = 1440\n",
    "\n",
    "for _filename in os.listdir(speech_path):\n",
    "\n",
    "    filename = _filename.split('.')[0].split('-')\n",
    "\n",
    "    gender = 'male' if isOdd(filename[6]) else 'female'\n",
    "\n",
    "    new_filename = emotions_dict[filename[2]] + \\\n",
    "    '-' + intensity_dict[filename[3]] + '-' + gender + '-' + str(i) + '.wav'\n",
    "\n",
    "    i += 1\n",
    "    # print(speech_path+'/'+_filename, save_path+'/'+new_filename)\n",
    "    \n",
    "    os.rename(speech_path+'/'+_filename, save_path+'/'+new_filename)"
   ]
  },
  {
   "cell_type": "code",
   "execution_count": 105,
   "metadata": {},
   "outputs": [
    {
     "name": "stdout",
     "output_type": "stream",
     "text": [
      "0_all_wav_data\t\t\t  Mp4ToWav.ipynb\r\n",
      "0_mfcc_speech_only.ipynb\t  pkls\r\n",
      "1_spectrograms\t\t\t  RAVDESS\r\n",
      "1_with_spectrograms.ipynb\t  resources\r\n",
      "2_mfccs_conv1D.ipynb\t\t  sandbox.ipynb\r\n",
      "computing_MFCC_experiments.ipynb  spectrograms_generating.ipynb\r\n",
      "computing_MFCC.ipynb\t\t  spectrograms.ipynb\r\n",
      "custom_alexnet_batchnorm.ipynb\t  spectr_vs_cepstr.ipynb\r\n",
      "files_renaming.ipynb\t\t  start_try_1.ipynb\r\n",
      "local_simple\t\t\t  test_1.ipynb\r\n",
      "mfcc_generating.ipynb\t\t  test_2.ipynb\r\n",
      "models\t\t\t\t  test.png\r\n"
     ]
    }
   ],
   "source": [
    "!ls"
   ]
  },
  {
   "cell_type": "code",
   "execution_count": 114,
   "metadata": {},
   "outputs": [
    {
     "data": {
      "text/plain": [
       "4260"
      ]
     },
     "execution_count": 114,
     "metadata": {},
     "output_type": "execute_result"
    }
   ],
   "source": [
    "2820+1440"
   ]
  },
  {
   "cell_type": "code",
   "execution_count": 54,
   "metadata": {},
   "outputs": [
    {
     "data": {
      "text/plain": [
       "['Video_Speech_Actor_02.zip',\n",
       " 'Video_Speech_Actor_09.zip',\n",
       " 'Video_Speech_Actor_01.zip',\n",
       " 'Video_Speech_Actor_03.zip',\n",
       " 'Video_Speech_Actor_08.zip',\n",
       " 'Video_Speech_Actor_06.zip',\n",
       " 'Video_Speech_Actor_04.zip',\n",
       " 'Video_Speech_Actor_11.zip',\n",
       " 'Video_Speech_Actor_05.zip',\n",
       " 'Video_Speech_Actor_07.zip',\n",
       " 'Video_Speech_Actor_10.zip']"
      ]
     },
     "execution_count": 54,
     "metadata": {},
     "output_type": "execute_result"
    }
   ],
   "source": [
    "files"
   ]
  },
  {
   "cell_type": "code",
   "execution_count": null,
   "metadata": {},
   "outputs": [],
   "source": []
  },
  {
   "cell_type": "code",
   "execution_count": null,
   "metadata": {},
   "outputs": [],
   "source": []
  }
 ],
 "metadata": {
  "kernelspec": {
   "display_name": "Python 3",
   "language": "python",
   "name": "python3"
  },
  "language_info": {
   "codemirror_mode": {
    "name": "ipython",
    "version": 3
   },
   "file_extension": ".py",
   "mimetype": "text/x-python",
   "name": "python",
   "nbconvert_exporter": "python",
   "pygments_lexer": "ipython3",
   "version": "3.6.4"
  }
 },
 "nbformat": 4,
 "nbformat_minor": 2
}
