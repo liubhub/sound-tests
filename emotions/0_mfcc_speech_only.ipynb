{
 "cells": [
  {
   "cell_type": "code",
   "execution_count": 2,
   "metadata": {},
   "outputs": [],
   "source": [
    "#  no aug\n",
    "#  обрезка первой секунды\n",
    "# только мфсс с энергией\n",
    "# окно хемминга"
   ]
  },
  {
   "cell_type": "code",
   "execution_count": 1,
   "metadata": {},
   "outputs": [
    {
     "name": "stderr",
     "output_type": "stream",
     "text": [
      "/home/lovely/anaconda3/lib/python3.6/site-packages/h5py/__init__.py:36: FutureWarning: Conversion of the second argument of issubdtype from `float` to `np.floating` is deprecated. In future, it will be treated as `np.float64 == np.dtype(float).type`.\n",
      "  from ._conv import register_converters as _register_converters\n"
     ]
    },
    {
     "data": {
      "text/plain": [
       "[name: \"/device:CPU:0\"\n",
       " device_type: \"CPU\"\n",
       " memory_limit: 268435456\n",
       " locality {\n",
       " }\n",
       " incarnation: 12394246513163800247, name: \"/device:GPU:0\"\n",
       " device_type: \"GPU\"\n",
       " memory_limit: 1499201536\n",
       " locality {\n",
       "   bus_id: 1\n",
       " }\n",
       " incarnation: 5361138285457532280\n",
       " physical_device_desc: \"device: 0, name: GeForce 940MX, pci bus id: 0000:01:00.0, compute capability: 5.0\"]"
      ]
     },
     "execution_count": 1,
     "metadata": {},
     "output_type": "execute_result"
    }
   ],
   "source": [
    "from tensorflow.python.client import device_lib\n",
    "device_lib.list_local_devices()"
   ]
  },
  {
   "cell_type": "code",
   "execution_count": 2,
   "metadata": {},
   "outputs": [
    {
     "name": "stderr",
     "output_type": "stream",
     "text": [
      "Using TensorFlow backend.\n"
     ]
    }
   ],
   "source": [
    "import os\n",
    "import librosa\n",
    "import librosa.display\n",
    "import numpy as np\n",
    "import keras\n",
    "from keras import models\n",
    "from keras import layers\n",
    "from keras import optimizers\n",
    "from keras import backend as K\n",
    "import matplotlib.pyplot as plt\n",
    "from sklearn.model_selection import train_test_split\n",
    "from python_speech_features import base as speech\n",
    "%matplotlib inline"
   ]
  },
  {
   "cell_type": "code",
   "execution_count": 3,
   "metadata": {},
   "outputs": [],
   "source": [
    "winlen = 0.025 # the length of the analysis window in seconds (25 milliseconds)\n",
    "winstep = 0.01    # the step between successive windows in seconds (10 milliseconds)\n",
    "preemph = 0.97   # coefficient\n",
    "\n",
    "nfilt = 40 # ?? the number of filters in the filterbank, default 26.\n",
    "nfft = 512 * 3 # ?? the FFT size. Default is 512.\n",
    "\n",
    "numcep = 13 # ?? num of cepstral coefs\n",
    "ceplifter = 0 # apply a lifter to final cepstral coefficients. 0 is no lifter 22\n",
    "\n",
    "winfunc = np.hamming # lambda x: np.ones((x,)) # window function"
   ]
  },
  {
   "cell_type": "code",
   "execution_count": 4,
   "metadata": {},
   "outputs": [],
   "source": [
    "# откинем те, которые нейтральные \n",
    "\n",
    "# ? возможно понадобится:\n",
    "# попытаемся обрезать первые секунды молчания во всех записях\n",
    "# потом надо привести их к одной длине"
   ]
  },
  {
   "cell_type": "code",
   "execution_count": 5,
   "metadata": {},
   "outputs": [],
   "source": [
    "classes = np.array(['angry', 'calm', 'disgust', 'fearful', 'happy', 'sad', 'surprised']) # no neutral"
   ]
  },
  {
   "cell_type": "code",
   "execution_count": 6,
   "metadata": {},
   "outputs": [],
   "source": [
    "all_mel_cepstral_coefficients = []\n",
    "all_class_labels = []\n",
    "\n",
    "path = 'RAVDESS/0_all_speech/'"
   ]
  },
  {
   "cell_type": "code",
   "execution_count": 7,
   "metadata": {},
   "outputs": [],
   "source": [
    "# shapes = []\n",
    "\n",
    "min_sig_len = 140941\n",
    "max_sig_len = 253053"
   ]
  },
  {
   "cell_type": "code",
   "execution_count": 8,
   "metadata": {},
   "outputs": [
    {
     "name": "stderr",
     "output_type": "stream",
     "text": [
      "/home/lovely/anaconda3/lib/python3.6/site-packages/mkl_fft/_numpy_fft.py:331: FutureWarning: Using a non-tuple sequence for multidimensional indexing is deprecated; use `arr[tuple(seq)]` instead of `arr[seq]`. In the future this will be interpreted as an array index, `arr[np.array(seq)]`, which will result either in an error or a different result.\n",
      "  output = mkl_fft.rfft_numpy(a, n=n, axis=axis)\n"
     ]
    }
   ],
   "source": [
    "for file in os.listdir(path):\n",
    "    class_label = file.split('-')[0]\n",
    "    \n",
    "    if not 'neutral' in class_label:\n",
    "        signal, samplerate = librosa.core.load(path+file, sr=48000)\n",
    "        \n",
    "        class_label = np.where(classes == class_label)[0][0]\n",
    "        \n",
    "        signal = np.pad(signal,(0,max_sig_len-len(signal)), mode='constant')\n",
    "\n",
    "        mfccs = speech.mfcc(\\\n",
    "                        signal, \\\n",
    "                        nfft=nfft,\\\n",
    "                        appendEnergy=True,\\\n",
    "                        samplerate=samplerate,\\\n",
    "                        numcep=numcep,\\\n",
    "                        nfilt=nfilt,\\\n",
    "                        winfunc=winfunc\n",
    "              )\n",
    "    \n",
    "        all_mel_cepstral_coefficients.append(mfccs)\n",
    "        all_class_labels.append(class_label)"
   ]
  },
  {
   "cell_type": "code",
   "execution_count": null,
   "metadata": {},
   "outputs": [],
   "source": [
    "speech"
   ]
  },
  {
   "cell_type": "code",
   "execution_count": 9,
   "metadata": {},
   "outputs": [],
   "source": [
    "all_mel_cepstral_coefficients = np.array(all_mel_cepstral_coefficients) \n",
    "all_class_labels = np.array(all_class_labels)"
   ]
  },
  {
   "cell_type": "code",
   "execution_count": 10,
   "metadata": {},
   "outputs": [
    {
     "data": {
      "text/plain": [
       "((1344, 526, 13), (1344,))"
      ]
     },
     "execution_count": 10,
     "metadata": {},
     "output_type": "execute_result"
    }
   ],
   "source": [
    "all_mel_cepstral_coefficients.shape, all_class_labels.shape"
   ]
  },
  {
   "cell_type": "code",
   "execution_count": 11,
   "metadata": {},
   "outputs": [
    {
     "data": {
      "text/plain": [
       "(array([  29,   36,   40,   52,   59,   65,   66,   89,   92,  116,  119,\n",
       "         120,  123,  131,  134,  135,  137,  138,  142,  145,  154,  158,\n",
       "         177,  181,  185,  198,  199,  202,  225,  232,  249,  252,  253,\n",
       "         257,  263,  265,  284,  285,  287,  289,  291,  296,  312,  317,\n",
       "         320,  328,  342,  343,  345,  347,  352,  359,  363,  369,  371,\n",
       "         381,  384,  408,  409,  423,  425,  437,  443,  449,  455,  457,\n",
       "         463,  471,  472,  488,  491,  498,  499,  503,  514,  517,  518,\n",
       "         521,  522,  524,  533,  540,  558,  562,  571,  572,  577,  585,\n",
       "         601,  603,  619,  623,  625,  634,  650,  654,  658,  660,  671,\n",
       "         681,  689,  696,  713,  727,  735,  738,  754,  772,  776,  793,\n",
       "         802,  806,  814,  827,  829,  832,  844,  846,  849,  857,  858,\n",
       "         872,  874,  876,  877,  882,  885,  891,  898,  899,  900,  902,\n",
       "         913,  918,  924,  932,  953,  957,  962,  964,  983,  992,  995,\n",
       "        1008, 1011, 1013, 1022, 1043, 1044, 1047, 1048, 1050, 1054, 1060,\n",
       "        1065, 1067, 1068, 1072, 1079, 1086, 1087, 1089, 1090, 1093, 1102,\n",
       "        1114, 1126, 1135, 1141, 1147, 1151, 1152, 1155, 1180, 1185, 1187,\n",
       "        1188, 1190, 1209, 1211, 1222, 1225, 1236, 1243, 1248, 1259, 1270,\n",
       "        1273, 1302, 1313, 1325, 1338]),)"
      ]
     },
     "execution_count": 11,
     "metadata": {},
     "output_type": "execute_result"
    }
   ],
   "source": [
    "np.where(all_class_labels == 0)"
   ]
  },
  {
   "cell_type": "code",
   "execution_count": 12,
   "metadata": {},
   "outputs": [
    {
     "data": {
      "image/png": "[encoded data removed]",
      "text/plain": [
       "<matplotlib.figure.Figure at 0x7fb59eb0a4e0>"
      ]
     },
     "metadata": {},
     "output_type": "display_data"
    }
   ],
   "source": [
    "plt.figure(figsize=(23, 14))\n",
    "librosa.display.specshow(all_mel_cepstral_coefficients[882], x_axis='time',cmap='magma')\n",
    "plt.colorbar()\n",
    "plt.title('MFCC')\n",
    "plt.tight_layout()"
   ]
  },
  {
   "cell_type": "code",
   "execution_count": 13,
   "metadata": {},
   "outputs": [
    {
     "data": {
      "text/plain": [
       "array([1, 1, 3, ..., 3, 6, 5])"
      ]
     },
     "execution_count": 13,
     "metadata": {},
     "output_type": "execute_result"
    }
   ],
   "source": [
    "num_of_classes = len(set(all_class_labels)) # 8\n",
    "all_class_labels"
   ]
  },
  {
   "cell_type": "code",
   "execution_count": 14,
   "metadata": {},
   "outputs": [
    {
     "data": {
      "text/plain": [
       "7"
      ]
     },
     "execution_count": 14,
     "metadata": {},
     "output_type": "execute_result"
    }
   ],
   "source": [
    "num_of_classes"
   ]
  },
  {
   "cell_type": "code",
   "execution_count": 15,
   "metadata": {},
   "outputs": [],
   "source": [
    "min_ = np.amax(all_mel_cepstral_coefficients)\n",
    "max_ = np.amin(all_mel_cepstral_coefficients)"
   ]
  },
  {
   "cell_type": "code",
   "execution_count": 16,
   "metadata": {},
   "outputs": [],
   "source": [
    "rescaled = (all_mel_cepstral_coefficients - min_) / (max_ - min_)"
   ]
  },
  {
   "cell_type": "code",
   "execution_count": 17,
   "metadata": {},
   "outputs": [],
   "source": [
    "X = rescaled.reshape(rescaled.shape[0], rescaled.shape[1], 13, 1)\n",
    "Y = keras.utils.to_categorical(all_class_labels, num_of_classes)"
   ]
  },
  {
   "cell_type": "code",
   "execution_count": 20,
   "metadata": {},
   "outputs": [],
   "source": [
    "np.random.seed(7)"
   ]
  },
  {
   "cell_type": "code",
   "execution_count": 21,
   "metadata": {},
   "outputs": [],
   "source": [
    "X_train, X_test, Y_train, Y_test = train_test_split(X, Y)"
   ]
  },
  {
   "cell_type": "code",
   "execution_count": 39,
   "metadata": {},
   "outputs": [],
   "source": [
    "layers.TimeDistributed??"
   ]
  },
  {
   "cell_type": "code",
   "execution_count": null,
   "metadata": {},
   "outputs": [],
   "source": [
    "model = Sequential()\n",
    "        model.add(TimeDistributed(Conv2D(64, (3, 3)),\n",
    "                                  input_shape=(10, 299, 299, 3))"
   ]
  },
  {
   "cell_type": "code",
   "execution_count": null,
   "metadata": {},
   "outputs": [],
   "source": [
    "lay"
   ]
  },
  {
   "cell_type": "code",
   "execution_count": 46,
   "metadata": {},
   "outputs": [
    {
     "data": {
      "text/plain": [
       "(1008, 526, 13, 1)"
      ]
     },
     "execution_count": 46,
     "metadata": {},
     "output_type": "execute_result"
    }
   ],
   "source": [
    "X_train.shape"
   ]
  },
  {
   "cell_type": "code",
   "execution_count": 42,
   "metadata": {
    "scrolled": false
   },
   "outputs": [],
   "source": [
    "model = models.Sequential()\n",
    "\n",
    "model.add(layers.TimeDistributed(layers.Conv2D(32,\\\n",
    "                                               activation='relu', \\\n",
    "                                               kernel_size=(3, 3),\\\n",
    "                                               padding='valid',\\\n",
    "                                               ),\\\n",
    "                                                 input_shape=X_train.shape\n",
    "                                              ))"
   ]
  },
  {
   "cell_type": "code",
   "execution_count": 43,
   "metadata": {},
   "outputs": [],
   "source": [
    "model.add(layers.TimeDistributed(layers.MaxPool2D(pool_size=(2,2))))\n",
    "model.add(layers.TimeDistributed(layers.Flatten()))\n",
    "\n",
    "model.add(layers.LSTM(10))\n",
    "model.add(layers.Dense(num_of_classes))\n",
    "model.add(layers.Lambda(lambda x: K.tf.nn.softmax(x)))"
   ]
  },
  {
   "cell_type": "code",
   "execution_count": 44,
   "metadata": {},
   "outputs": [],
   "source": [
    "# model.compile(loss='categorical_crossentropy', optimizer='adadelta', metrics=['accuracy'])\n",
    "\n",
    "# sgd = optimizers.SGD(lr=0.01, decay=1e-6, momentum=0.9, nesterov=True)\n",
    "model.compile(loss='categorical_crossentropy',\n",
    "              optimizer='adam',\n",
    "              metrics=['accuracy',])"
   ]
  },
  {
   "cell_type": "code",
   "execution_count": 45,
   "metadata": {},
   "outputs": [
    {
     "ename": "ValueError",
     "evalue": "Error when checking input: expected time_distributed_9_input to have 5 dimensions, but got array with shape (1008, 526, 13, 1)",
     "output_type": "error",
     "traceback": [
      "\u001b[0;31m---------------------------------------------------------------------------\u001b[0m",
      "\u001b[0;31mValueError\u001b[0m                                Traceback (most recent call last)",
      "\u001b[0;32m<ipython-input-45-16ec5aef71bf>\u001b[0m in \u001b[0;36m<module>\u001b[0;34m()\u001b[0m\n\u001b[0;32m----> 1\u001b[0;31m \u001b[0mhistory\u001b[0m \u001b[0;34m=\u001b[0m \u001b[0mmodel\u001b[0m\u001b[0;34m.\u001b[0m\u001b[0mfit\u001b[0m\u001b[0;34m(\u001b[0m\u001b[0mX_train\u001b[0m\u001b[0;34m,\u001b[0m \u001b[0mY_train\u001b[0m\u001b[0;34m,\u001b[0m \u001b[0mvalidation_split\u001b[0m\u001b[0;34m=\u001b[0m\u001b[0;36m0.25\u001b[0m\u001b[0;34m,\u001b[0m \u001b[0mbatch_size\u001b[0m\u001b[0;34m=\u001b[0m\u001b[0;36m35\u001b[0m\u001b[0;34m,\u001b[0m \u001b[0mepochs\u001b[0m\u001b[0;34m=\u001b[0m\u001b[0;36m50\u001b[0m\u001b[0;34m,\u001b[0m \u001b[0mverbose\u001b[0m\u001b[0;34m=\u001b[0m\u001b[0;32mTrue\u001b[0m\u001b[0;34m)\u001b[0m\u001b[0;34m\u001b[0m\u001b[0m\n\u001b[0m",
      "\u001b[0;32m~/anaconda3/lib/python3.6/site-packages/keras/models.py\u001b[0m in \u001b[0;36mfit\u001b[0;34m(self, x, y, batch_size, epochs, verbose, callbacks, validation_split, validation_data, shuffle, class_weight, sample_weight, initial_epoch, steps_per_epoch, validation_steps, **kwargs)\u001b[0m\n\u001b[1;32m   1000\u001b[0m                               \u001b[0minitial_epoch\u001b[0m\u001b[0;34m=\u001b[0m\u001b[0minitial_epoch\u001b[0m\u001b[0;34m,\u001b[0m\u001b[0;34m\u001b[0m\u001b[0m\n\u001b[1;32m   1001\u001b[0m                               \u001b[0msteps_per_epoch\u001b[0m\u001b[0;34m=\u001b[0m\u001b[0msteps_per_epoch\u001b[0m\u001b[0;34m,\u001b[0m\u001b[0;34m\u001b[0m\u001b[0m\n\u001b[0;32m-> 1002\u001b[0;31m                               validation_steps=validation_steps)\n\u001b[0m\u001b[1;32m   1003\u001b[0m \u001b[0;34m\u001b[0m\u001b[0m\n\u001b[1;32m   1004\u001b[0m     def evaluate(self, x=None, y=None,\n",
      "\u001b[0;32m~/anaconda3/lib/python3.6/site-packages/keras/engine/training.py\u001b[0m in \u001b[0;36mfit\u001b[0;34m(self, x, y, batch_size, epochs, verbose, callbacks, validation_split, validation_data, shuffle, class_weight, sample_weight, initial_epoch, steps_per_epoch, validation_steps, **kwargs)\u001b[0m\n\u001b[1;32m   1628\u001b[0m             \u001b[0msample_weight\u001b[0m\u001b[0;34m=\u001b[0m\u001b[0msample_weight\u001b[0m\u001b[0;34m,\u001b[0m\u001b[0;34m\u001b[0m\u001b[0m\n\u001b[1;32m   1629\u001b[0m             \u001b[0mclass_weight\u001b[0m\u001b[0;34m=\u001b[0m\u001b[0mclass_weight\u001b[0m\u001b[0;34m,\u001b[0m\u001b[0;34m\u001b[0m\u001b[0m\n\u001b[0;32m-> 1630\u001b[0;31m             batch_size=batch_size)\n\u001b[0m\u001b[1;32m   1631\u001b[0m         \u001b[0;31m# Prepare validation data.\u001b[0m\u001b[0;34m\u001b[0m\u001b[0;34m\u001b[0m\u001b[0m\n\u001b[1;32m   1632\u001b[0m         \u001b[0mdo_validation\u001b[0m \u001b[0;34m=\u001b[0m \u001b[0;32mFalse\u001b[0m\u001b[0;34m\u001b[0m\u001b[0m\n",
      "\u001b[0;32m~/anaconda3/lib/python3.6/site-packages/keras/engine/training.py\u001b[0m in \u001b[0;36m_standardize_user_data\u001b[0;34m(self, x, y, sample_weight, class_weight, check_array_lengths, batch_size)\u001b[0m\n\u001b[1;32m   1474\u001b[0m                                     \u001b[0mself\u001b[0m\u001b[0;34m.\u001b[0m\u001b[0m_feed_input_shapes\u001b[0m\u001b[0;34m,\u001b[0m\u001b[0;34m\u001b[0m\u001b[0m\n\u001b[1;32m   1475\u001b[0m                                     \u001b[0mcheck_batch_axis\u001b[0m\u001b[0;34m=\u001b[0m\u001b[0;32mFalse\u001b[0m\u001b[0;34m,\u001b[0m\u001b[0;34m\u001b[0m\u001b[0m\n\u001b[0;32m-> 1476\u001b[0;31m                                     exception_prefix='input')\n\u001b[0m\u001b[1;32m   1477\u001b[0m         y = _standardize_input_data(y, self._feed_output_names,\n\u001b[1;32m   1478\u001b[0m                                     \u001b[0moutput_shapes\u001b[0m\u001b[0;34m,\u001b[0m\u001b[0;34m\u001b[0m\u001b[0m\n",
      "\u001b[0;32m~/anaconda3/lib/python3.6/site-packages/keras/engine/training.py\u001b[0m in \u001b[0;36m_standardize_input_data\u001b[0;34m(data, names, shapes, check_batch_axis, exception_prefix)\u001b[0m\n\u001b[1;32m    111\u001b[0m                         \u001b[0;34m': expected '\u001b[0m \u001b[0;34m+\u001b[0m \u001b[0mnames\u001b[0m\u001b[0;34m[\u001b[0m\u001b[0mi\u001b[0m\u001b[0;34m]\u001b[0m \u001b[0;34m+\u001b[0m \u001b[0;34m' to have '\u001b[0m \u001b[0;34m+\u001b[0m\u001b[0;34m\u001b[0m\u001b[0m\n\u001b[1;32m    112\u001b[0m                         \u001b[0mstr\u001b[0m\u001b[0;34m(\u001b[0m\u001b[0mlen\u001b[0m\u001b[0;34m(\u001b[0m\u001b[0mshape\u001b[0m\u001b[0;34m)\u001b[0m\u001b[0;34m)\u001b[0m \u001b[0;34m+\u001b[0m \u001b[0;34m' dimensions, but got array '\u001b[0m\u001b[0;34m\u001b[0m\u001b[0m\n\u001b[0;32m--> 113\u001b[0;31m                         'with shape ' + str(data_shape))\n\u001b[0m\u001b[1;32m    114\u001b[0m                 \u001b[0;32mif\u001b[0m \u001b[0;32mnot\u001b[0m \u001b[0mcheck_batch_axis\u001b[0m\u001b[0;34m:\u001b[0m\u001b[0;34m\u001b[0m\u001b[0m\n\u001b[1;32m    115\u001b[0m                     \u001b[0mdata_shape\u001b[0m \u001b[0;34m=\u001b[0m \u001b[0mdata_shape\u001b[0m\u001b[0;34m[\u001b[0m\u001b[0;36m1\u001b[0m\u001b[0;34m:\u001b[0m\u001b[0;34m]\u001b[0m\u001b[0;34m\u001b[0m\u001b[0m\n",
      "\u001b[0;31mValueError\u001b[0m: Error when checking input: expected time_distributed_9_input to have 5 dimensions, but got array with shape (1008, 526, 13, 1)"
     ]
    }
   ],
   "source": [
    "history = model.fit(X_train, Y_train, validation_split=0.25, batch_size=35, epochs=50, verbose=True)"
   ]
  },
  {
   "cell_type": "code",
   "execution_count": 25,
   "metadata": {},
   "outputs": [
    {
     "name": "stdout",
     "output_type": "stream",
     "text": [
      "336/336 [==============================] - 0s 607us/step\n"
     ]
    },
    {
     "data": {
      "text/plain": [
       "[1.4044365882873535, 0.47619047619047616]"
      ]
     },
     "execution_count": 25,
     "metadata": {},
     "output_type": "execute_result"
    }
   ],
   "source": [
    "model.evaluate(X_test, Y_test)"
   ]
  },
  {
   "cell_type": "code",
   "execution_count": 26,
   "metadata": {},
   "outputs": [
    {
     "data": {
      "image/png": "[encoded data removed]",
      "text/plain": [
       "<matplotlib.figure.Figure at 0x7fb59c144f98>"
      ]
     },
     "metadata": {},
     "output_type": "display_data"
    }
   ],
   "source": [
    "plt.plot(history.history['acc'])\n",
    "plt.title('model accuracy')\n",
    "plt.plot(history.history['val_acc'])\n",
    "plt.ylabel('accuracy')\n",
    "plt.xlabel('epoch')\n",
    "plt.legend(['train', 'test'], loc='upper left')\n",
    "plt.show()"
   ]
  },
  {
   "cell_type": "code",
   "execution_count": 78,
   "metadata": {
    "collapsed": true
   },
   "outputs": [
    {
     "data": {
      "image/png": "[encoded data removed]",
      "text/plain": [
       "<matplotlib.figure.Figure at 0x7fca0450b2e8>"
      ]
     },
     "metadata": {},
     "output_type": "display_data"
    }
   ],
   "source": [
    "# summarize history for loss\n",
    "plt.plot(history.history['loss'])\n",
    "plt.plot(history.history['val_loss'])\n",
    "plt.title('model loss')\n",
    "plt.ylabel('loss')\n",
    "plt.xlabel('epoch')\n",
    "plt.legend(['train', 'test'], loc='upper left')\n",
    "plt.show()"
   ]
  },
  {
   "cell_type": "code",
   "execution_count": null,
   "metadata": {},
   "outputs": [],
   "source": [
    "#  test with another type of preprocessing (instead of min-max)"
   ]
  },
  {
   "cell_type": "code",
   "execution_count": 81,
   "metadata": {},
   "outputs": [
    {
     "data": {
      "text/plain": [
       "(1344, 526, 13)"
      ]
     },
     "execution_count": 81,
     "metadata": {},
     "output_type": "execute_result"
    }
   ],
   "source": [
    "all_mel_cepstral_coefficients.shape"
   ]
  },
  {
   "cell_type": "code",
   "execution_count": 102,
   "metadata": {},
   "outputs": [],
   "source": [
    "# 0.5[tanh(0.01(s-μ)/σ + 1]\n",
    "\n",
    "tanh_scaled_mfcc = []\n",
    "\n",
    "for el in all_mel_cepstral_coefficients:\n",
    "    s = 0.5*(np.tanh(0.01*(el - np.mean(el))/np.std(el) + 1 ))\n",
    "    tanh_scaled_mfcc.append(s)"
   ]
  },
  {
   "cell_type": "code",
   "execution_count": 103,
   "metadata": {},
   "outputs": [],
   "source": [
    "tanh_scaled_mfcc = np.array(tanh_scaled_mfcc)"
   ]
  },
  {
   "cell_type": "code",
   "execution_count": 107,
   "metadata": {},
   "outputs": [
    {
     "data": {
      "text/plain": [
       "(1344, 526, 13)"
      ]
     },
     "execution_count": 107,
     "metadata": {},
     "output_type": "execute_result"
    }
   ],
   "source": [
    "tanh_scaled_mfcc.shape"
   ]
  },
  {
   "cell_type": "code",
   "execution_count": 120,
   "metadata": {},
   "outputs": [],
   "source": [
    "X = tanh_scaled_mfcc.reshape(tanh_scaled_mfcc.shape[0], tanh_scaled_mfcc.shape[1], 13, 1)\n",
    "Y = keras.utils.to_categorical(all_class_labels, num_of_classes)\n",
    "X_train, X_test, Y_train, Y_test = train_test_split(X, Y)\n",
    "\n",
    "\n",
    "# X = all_mel_cepstral_coefficients.reshape(all_mel_cepstral_coefficients.shape[0], all_mel_cepstral_coefficients.shape[1], 13, 1)\n",
    "# Y = keras.utils.to_categorical(all_class_labels, num_of_classes)\n",
    "# X_train, X_test, Y_train, Y_test = train_test_split(X, Y)"
   ]
  },
  {
   "cell_type": "code",
   "execution_count": 132,
   "metadata": {},
   "outputs": [],
   "source": [
    "model = models.Sequential()\n",
    "\n",
    "model.add(layers.Conv2D(32,  activation='relu', kernel_size=(3, 3),padding='valid', input_shape=X.shape[1:]))\n",
    "model.add(layers.MaxPool2D(pool_size=(2,2)))\n",
    "\n",
    "model.add(layers.Dropout(0.2))\n",
    "\n",
    "model.add(layers.Conv2D(32,  activation='relu', kernel_size=(2, 2),padding='valid'))\n",
    "model.add(layers.MaxPool2D(pool_size=(2,2)))\n",
    "model.add(layers.Dropout(0.2))\n",
    "\n",
    "model.add(layers.Conv2D(64,  activation='relu', kernel_size=(1, 1),padding='valid'))\n",
    "model.add(layers.MaxPool2D(pool_size=(2,2)))\n",
    "model.add(layers.Dropout(0.2))\n",
    "\n",
    "model.add(layers.Flatten())\n",
    "model.add(layers.Dense(num_of_classes))\n",
    "model.add(layers.Lambda(lambda x: K.tf.nn.softmax(x)))"
   ]
  },
  {
   "cell_type": "code",
   "execution_count": 133,
   "metadata": {},
   "outputs": [],
   "source": [
    "sgd = optimizers.SGD(lr=0.01, decay=1e-6, momentum=0.9, nesterov=True)\n",
    "model.compile(loss='categorical_crossentropy',\n",
    "              optimizer='adadelta',\n",
    "              metrics=['accuracy',])"
   ]
  },
  {
   "cell_type": "code",
   "execution_count": 134,
   "metadata": {
    "collapsed": true
   },
   "outputs": [
    {
     "name": "stdout",
     "output_type": "stream",
     "text": [
      "Train on 756 samples, validate on 252 samples\n",
      "Epoch 1/50\n",
      "756/756 [==============================] - 2s 3ms/step - loss: 1.9638 - acc: 0.1534 - val_loss: 1.9456 - val_acc: 0.1349\n",
      "Epoch 2/50\n",
      "756/756 [==============================] - 1s 2ms/step - loss: 1.9509 - acc: 0.1243 - val_loss: 1.9464 - val_acc: 0.1310\n",
      "Epoch 3/50\n",
      "756/756 [==============================] - 1s 2ms/step - loss: 1.9473 - acc: 0.1508 - val_loss: 1.9468 - val_acc: 0.1310\n",
      "Epoch 4/50\n",
      "756/756 [==============================] - 1s 2ms/step - loss: 1.9477 - acc: 0.1349 - val_loss: 1.9466 - val_acc: 0.1310\n",
      "Epoch 5/50\n",
      "756/756 [==============================] - 1s 2ms/step - loss: 1.9462 - acc: 0.1349 - val_loss: 1.9472 - val_acc: 0.1310\n",
      "Epoch 6/50\n",
      "756/756 [==============================] - 1s 2ms/step - loss: 1.9465 - acc: 0.1402 - val_loss: 1.9475 - val_acc: 0.1310\n",
      "Epoch 7/50\n",
      "756/756 [==============================] - 1s 2ms/step - loss: 1.9467 - acc: 0.1310 - val_loss: 1.9473 - val_acc: 0.1310\n",
      "Epoch 8/50\n",
      "756/756 [==============================] - 1s 2ms/step - loss: 1.9464 - acc: 0.1521 - val_loss: 1.9473 - val_acc: 0.1310\n",
      "Epoch 9/50\n",
      "756/756 [==============================] - 1s 2ms/step - loss: 1.9462 - acc: 0.1415 - val_loss: 1.9475 - val_acc: 0.1310\n",
      "Epoch 10/50\n",
      "756/756 [==============================] - 1s 2ms/step - loss: 1.9467 - acc: 0.1336 - val_loss: 1.9475 - val_acc: 0.1310\n",
      "Epoch 11/50\n",
      "756/756 [==============================] - 1s 2ms/step - loss: 1.9457 - acc: 0.1415 - val_loss: 1.9479 - val_acc: 0.1310\n",
      "Epoch 12/50\n",
      "756/756 [==============================] - 1s 2ms/step - loss: 1.9454 - acc: 0.1349 - val_loss: 1.9483 - val_acc: 0.1310\n",
      "Epoch 13/50\n",
      "756/756 [==============================] - 1s 2ms/step - loss: 1.9458 - acc: 0.1495 - val_loss: 1.9481 - val_acc: 0.1310\n",
      "Epoch 14/50\n",
      "756/756 [==============================] - 1s 2ms/step - loss: 1.9459 - acc: 0.1402 - val_loss: 1.9482 - val_acc: 0.1310\n",
      "Epoch 15/50\n",
      "756/756 [==============================] - 1s 2ms/step - loss: 1.9459 - acc: 0.1429 - val_loss: 1.9484 - val_acc: 0.1310\n",
      "Epoch 16/50\n",
      "756/756 [==============================] - 1s 2ms/step - loss: 1.9456 - acc: 0.1521 - val_loss: 1.9486 - val_acc: 0.1310\n",
      "Epoch 17/50\n",
      "756/756 [==============================] - 1s 2ms/step - loss: 1.9459 - acc: 0.1402 - val_loss: 1.9485 - val_acc: 0.1310\n",
      "Epoch 18/50\n",
      "756/756 [==============================] - 1s 2ms/step - loss: 1.9455 - acc: 0.1508 - val_loss: 1.9487 - val_acc: 0.1310\n",
      "Epoch 19/50\n",
      "756/756 [==============================] - 1s 2ms/step - loss: 1.9456 - acc: 0.1468 - val_loss: 1.9487 - val_acc: 0.1310\n",
      "Epoch 20/50\n",
      "756/756 [==============================] - 1s 2ms/step - loss: 1.9454 - acc: 0.1310 - val_loss: 1.9489 - val_acc: 0.1310\n",
      "Epoch 21/50\n",
      "756/756 [==============================] - 1s 2ms/step - loss: 1.9456 - acc: 0.1376 - val_loss: 1.9490 - val_acc: 0.1310\n",
      "Epoch 22/50\n",
      "756/756 [==============================] - 1s 2ms/step - loss: 1.9454 - acc: 0.1468 - val_loss: 1.9491 - val_acc: 0.1310\n",
      "Epoch 23/50\n",
      "756/756 [==============================] - 1s 2ms/step - loss: 1.9454 - acc: 0.1455 - val_loss: 1.9494 - val_acc: 0.1310\n",
      "Epoch 24/50\n",
      "756/756 [==============================] - 1s 2ms/step - loss: 1.9455 - acc: 0.1442 - val_loss: 1.9496 - val_acc: 0.1310\n",
      "Epoch 25/50\n",
      "756/756 [==============================] - 1s 2ms/step - loss: 1.9457 - acc: 0.1587 - val_loss: 1.9495 - val_acc: 0.1310\n",
      "Epoch 26/50\n",
      "756/756 [==============================] - 1s 2ms/step - loss: 1.9454 - acc: 0.1415 - val_loss: 1.9496 - val_acc: 0.1310\n",
      "Epoch 27/50\n",
      "756/756 [==============================] - 1s 2ms/step - loss: 1.9454 - acc: 0.1481 - val_loss: 1.9496 - val_acc: 0.1310\n",
      "Epoch 28/50\n",
      "756/756 [==============================] - 1s 2ms/step - loss: 1.9453 - acc: 0.1508 - val_loss: 1.9496 - val_acc: 0.1310\n",
      "Epoch 29/50\n",
      "756/756 [==============================] - 1s 2ms/step - loss: 1.9453 - acc: 0.1587 - val_loss: 1.9497 - val_acc: 0.1310\n",
      "Epoch 30/50\n",
      "756/756 [==============================] - 1s 2ms/step - loss: 1.9454 - acc: 0.1481 - val_loss: 1.9497 - val_acc: 0.1310\n",
      "Epoch 31/50\n",
      "756/756 [==============================] - 1s 2ms/step - loss: 1.9453 - acc: 0.1508 - val_loss: 1.9498 - val_acc: 0.1310\n",
      "Epoch 32/50\n",
      "756/756 [==============================] - 1s 2ms/step - loss: 1.9453 - acc: 0.1508 - val_loss: 1.9498 - val_acc: 0.1310\n",
      "Epoch 33/50\n",
      "756/756 [==============================] - 1s 2ms/step - loss: 1.9452 - acc: 0.1495 - val_loss: 1.9501 - val_acc: 0.1310\n",
      "Epoch 34/50\n",
      "756/756 [==============================] - 1s 2ms/step - loss: 1.9453 - acc: 0.1415 - val_loss: 1.9500 - val_acc: 0.1310\n",
      "Epoch 35/50\n",
      "756/756 [==============================] - 1s 2ms/step - loss: 1.9452 - acc: 0.1508 - val_loss: 1.9501 - val_acc: 0.1310\n",
      "Epoch 36/50\n",
      "756/756 [==============================] - 1s 2ms/step - loss: 1.9452 - acc: 0.1508 - val_loss: 1.9501 - val_acc: 0.1310\n",
      "Epoch 37/50\n",
      "756/756 [==============================] - 1s 2ms/step - loss: 1.9452 - acc: 0.1508 - val_loss: 1.9501 - val_acc: 0.1310\n",
      "Epoch 38/50\n",
      "756/756 [==============================] - 1s 2ms/step - loss: 1.9451 - acc: 0.1508 - val_loss: 1.9502 - val_acc: 0.1310\n",
      "Epoch 39/50\n",
      "756/756 [==============================] - 1s 2ms/step - loss: 1.9452 - acc: 0.1534 - val_loss: 1.9503 - val_acc: 0.1310\n",
      "Epoch 40/50\n",
      "756/756 [==============================] - 1s 2ms/step - loss: 1.9452 - acc: 0.1495 - val_loss: 1.9504 - val_acc: 0.1310\n",
      "Epoch 41/50\n",
      "756/756 [==============================] - 1s 2ms/step - loss: 1.9452 - acc: 0.1508 - val_loss: 1.9504 - val_acc: 0.1310\n",
      "Epoch 42/50\n",
      "756/756 [==============================] - 1s 2ms/step - loss: 1.9451 - acc: 0.1429 - val_loss: 1.9505 - val_acc: 0.1310\n",
      "Epoch 43/50\n",
      "756/756 [==============================] - 1s 2ms/step - loss: 1.9451 - acc: 0.1508 - val_loss: 1.9506 - val_acc: 0.1310\n",
      "Epoch 44/50\n",
      "756/756 [==============================] - 1s 2ms/step - loss: 1.9451 - acc: 0.1455 - val_loss: 1.9507 - val_acc: 0.1310\n",
      "Epoch 45/50\n",
      "756/756 [==============================] - 1s 2ms/step - loss: 1.9451 - acc: 0.1508 - val_loss: 1.9507 - val_acc: 0.1310\n",
      "Epoch 46/50\n",
      "756/756 [==============================] - 1s 2ms/step - loss: 1.9451 - acc: 0.1415 - val_loss: 1.9508 - val_acc: 0.1310\n",
      "Epoch 47/50\n",
      "756/756 [==============================] - 1s 2ms/step - loss: 1.9452 - acc: 0.1362 - val_loss: 1.9507 - val_acc: 0.1310\n",
      "Epoch 48/50\n",
      "756/756 [==============================] - 1s 2ms/step - loss: 1.9451 - acc: 0.1362 - val_loss: 1.9508 - val_acc: 0.1310\n",
      "Epoch 49/50\n",
      "756/756 [==============================] - 1s 1ms/step - loss: 1.9451 - acc: 0.1508 - val_loss: 1.9508 - val_acc: 0.1310\n",
      "Epoch 50/50\n",
      "756/756 [==============================] - 1s 1ms/step - loss: 1.9451 - acc: 0.1389 - val_loss: 1.9508 - val_acc: 0.1310\n"
     ]
    }
   ],
   "source": [
    "history = model.fit(X_train, Y_train, validation_split=0.25, batch_size=35, epochs=50, verbose=True)"
   ]
  },
  {
   "cell_type": "code",
   "execution_count": 135,
   "metadata": {},
   "outputs": [
    {
     "name": "stdout",
     "output_type": "stream",
     "text": [
      "336/336 [==============================] - 0s 514us/step\n"
     ]
    },
    {
     "data": {
      "text/plain": [
       "[1.947690214429583, 0.13392857142857142]"
      ]
     },
     "execution_count": 135,
     "metadata": {},
     "output_type": "execute_result"
    }
   ],
   "source": [
    "model.evaluate(X_test, Y_test)"
   ]
  },
  {
   "cell_type": "code",
   "execution_count": null,
   "metadata": {},
   "outputs": [],
   "source": []
  },
  {
   "cell_type": "code",
   "execution_count": null,
   "metadata": {},
   "outputs": [],
   "source": []
  },
  {
   "cell_type": "code",
   "execution_count": null,
   "metadata": {},
   "outputs": [],
   "source": [
    "# data augmentation test"
   ]
  },
  {
   "cell_type": "code",
   "execution_count": 79,
   "metadata": {},
   "outputs": [],
   "source": [
    "# from keras.preprocessing.image import ImageDataGenerator"
   ]
  },
  {
   "cell_type": "code",
   "execution_count": null,
   "metadata": {},
   "outputs": [],
   "source": [
    "# datagen = ImageDataGenerator ()"
   ]
  },
  {
   "cell_type": "code",
   "execution_count": null,
   "metadata": {},
   "outputs": [],
   "source": [
    "model = models.Sequential()\n",
    "\n",
    "model.add(layers.Conv2D(32,  activation='relu', kernel_size=(3, 3),padding='valid', input_shape=X.shape[1:]))\n",
    "model.add(layers.MaxPool2D(pool_size=(2,2)))\n",
    "\n",
    "model.add(layers.Dropout(0.2))\n",
    "\n",
    "model.add(layers.Conv2D(32,  activation='relu', kernel_size=(2, 2),padding='valid'))\n",
    "model.add(layers.MaxPool2D(pool_size=(2,2)))\n",
    "model.add(layers.Dropout(0.2))\n",
    "\n",
    "model.add(layers.Conv2D(64,  activation='relu', kernel_size=(1, 1),padding='valid'))\n",
    "model.add(layers.MaxPool2D(pool_size=(2,2)))\n",
    "model.add(layers.Dropout(0.2))\n",
    "\n",
    "model.add(layers.Flatten())\n",
    "model.add(layers.Dense(num_of_classes))\n",
    "model.add(layers.Lambda(lambda x: K.tf.nn.softmax(x)))"
   ]
  }
 ],
 "metadata": {
  "kernelspec": {
   "display_name": "Python 3",
   "language": "python",
   "name": "python3"
  },
  "language_info": {
   "codemirror_mode": {
    "name": "ipython",
    "version": 3
   },
   "file_extension": ".py",
   "mimetype": "text/x-python",
   "name": "python",
   "nbconvert_exporter": "python",
   "pygments_lexer": "ipython3",
   "version": "3.6.4"
  }
 },
 "nbformat": 4,
 "nbformat_minor": 2
}
