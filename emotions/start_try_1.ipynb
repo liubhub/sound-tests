{
 "cells": [
  {
   "cell_type": "code",
   "execution_count": null,
   "metadata": {},
   "outputs": [],
   "source": [
    "# start with https://www.pyimagesearch.com/2018/05/07/multi-label-classification-with-keras/"
   ]
  },
  {
   "cell_type": "code",
   "execution_count": null,
   "metadata": {},
   "outputs": [],
   "source": [
    "# import tensorflow as tf\n",
    "# from keras.backend.tensorflow_backend import set_session\n",
    "# config = tf.ConfigProto()\n",
    "# config.gpu_options.per_process_gpu_memory_fraction = 0.5\n",
    "# set_session(tf.Session(config=config))\n",
    "\n",
    "# from keras import backend as K\n",
    "# K.tensorflow_backend._get_available_gpus()"
   ]
  },
  {
   "cell_type": "code",
   "execution_count": null,
   "metadata": {},
   "outputs": [],
   "source": [
    "# from keras import backend as K\n",
    "# import tensorflow as tf\n",
    "# with K.tf.device(\"/device:GPU:0\"):\n",
    "#     config = tf.ConfigProto(intra_op_parallelism_threads=4,\\\n",
    "#            inter_op_parallelism_threads=4, allow_soft_placement=True,\\\n",
    "#            device_count = {'CPU' : 1, 'GPU' : 1})\n",
    "#     session = tf.Session(config=config)\n",
    "#     K.set_session(session)"
   ]
  },
  {
   "cell_type": "code",
   "execution_count": 1,
   "metadata": {},
   "outputs": [
    {
     "name": "stderr",
     "output_type": "stream",
     "text": [
      "/home/lovely/anaconda3/lib/python3.6/site-packages/h5py/__init__.py:36: FutureWarning: Conversion of the second argument of issubdtype from `float` to `np.floating` is deprecated. In future, it will be treated as `np.float64 == np.dtype(float).type`.\n",
      "  from ._conv import register_converters as _register_converters\n"
     ]
    },
    {
     "data": {
      "text/plain": [
       "[name: \"/device:CPU:0\"\n",
       " device_type: \"CPU\"\n",
       " memory_limit: 268435456\n",
       " locality {\n",
       " }\n",
       " incarnation: 1410372447093695272, name: \"/device:GPU:0\"\n",
       " device_type: \"GPU\"\n",
       " memory_limit: 1401421824\n",
       " locality {\n",
       "   bus_id: 1\n",
       " }\n",
       " incarnation: 16398755870384322347\n",
       " physical_device_desc: \"device: 0, name: GeForce 940MX, pci bus id: 0000:01:00.0, compute capability: 5.0\"]"
      ]
     },
     "execution_count": 1,
     "metadata": {},
     "output_type": "execute_result"
    }
   ],
   "source": [
    "from tensorflow.python.client import device_lib\n",
    "device_lib.list_local_devices()"
   ]
  },
  {
   "cell_type": "code",
   "execution_count": 60,
   "metadata": {},
   "outputs": [],
   "source": [
    "import os\n",
    "import librosa\n",
    "import numpy as np\n",
    "import keras\n",
    "from keras import models\n",
    "from keras import layers\n",
    "from keras import optimizers\n",
    "from keras import backend as K\n",
    "import matplotlib.pyplot as plt\n",
    "from sklearn.model_selection import train_test_split\n",
    "from python_speech_features import base as b\n",
    "%matplotlib inline"
   ]
  },
  {
   "cell_type": "code",
   "execution_count": 3,
   "metadata": {},
   "outputs": [],
   "source": [
    "# multiclass classification task"
   ]
  },
  {
   "cell_type": "code",
   "execution_count": 4,
   "metadata": {},
   "outputs": [],
   "source": [
    "# helpers\n",
    "def compute_mfcc():\n",
    "    pass\n",
    "\n",
    "winlen = 0.025 # the length of the analysis window in seconds (25 milliseconds)\n",
    "winstep = 0.01    # the step between successive windows in seconds (10 milliseconds)\n",
    "preemph = 0.97   # coefficient\n",
    "\n",
    "nfilt = 40 # ?? the number of filters in the filterbank, default 26.\n",
    "nfft = 512 * 3 # ?? the FFT size. Default is 512.\n",
    "\n",
    "numcep = 13 # ?? num of cepstral coefs\n",
    "ceplifter = 0 # apply a lifter to final cepstral coefficients. 0 is no lifter 22\n",
    "\n",
    "winfunc = np.kaiser # lambda x: np.ones((x,)) # window function"
   ]
  },
  {
   "cell_type": "code",
   "execution_count": 5,
   "metadata": {},
   "outputs": [],
   "source": [
    "classes = np.array(['angry', 'calm', 'disgust', 'fearful', 'happy', 'neutral', 'sad', 'surprised'])"
   ]
  },
  {
   "cell_type": "code",
   "execution_count": 6,
   "metadata": {},
   "outputs": [
    {
     "name": "stderr",
     "output_type": "stream",
     "text": [
      "/home/lovely/anaconda3/lib/python3.6/site-packages/mkl_fft/_numpy_fft.py:331: FutureWarning: Using a non-tuple sequence for multidimensional indexing is deprecated; use `arr[tuple(seq)]` instead of `arr[seq]`. In the future this will be interpreted as an array index, `arr[np.array(seq)]`, which will result either in an error or a different result.\n",
      "  output = mkl_fft.rfft_numpy(a, n=n, axis=axis)\n"
     ]
    }
   ],
   "source": [
    "# at first we need to generate mfcc coeffs for all audios\n",
    "\n",
    "all_mel_cepstral_coefficients = []\n",
    "all_class_labels = []\n",
    "\n",
    "path = 'RAVDESS/renamed_sources/'\n",
    "\n",
    "min_signal_length = 147347\n",
    "\n",
    "for file in os.listdir(path):\n",
    "\n",
    "    signal, samplerate = librosa.core.load(path+file, sr=48000)\n",
    "    \n",
    "    class_label = file.split('-')[0]\n",
    "    class_label = np.where(classes == class_label)[0][0]\n",
    "\n",
    "    mfccs = b.mfcc(\\\n",
    "                signal[:min_signal_length], \\\n",
    "                nfft=nfft,\\\n",
    "                appendEnergy=True,\\\n",
    "                samplerate=samplerate,\\\n",
    "                numcep=numcep,\n",
    "                nfilt=nfilt\n",
    "              )\n",
    "    \n",
    "    all_mel_cepstral_coefficients.append(mfccs)\n",
    "    all_class_labels.append(class_label)"
   ]
  },
  {
   "cell_type": "code",
   "execution_count": 7,
   "metadata": {},
   "outputs": [
    {
     "name": "stdout",
     "output_type": "stream",
     "text": [
      "(360, 306, 13)\n",
      "(360,)\n"
     ]
    }
   ],
   "source": [
    "all_mel_cepstral_coefficients = np.array(all_mel_cepstral_coefficients)\n",
    "print(all_mel_cepstral_coefficients.shape)\n",
    "\n",
    "all_class_labels = np.array(all_class_labels)\n",
    "print(all_class_labels.shape)"
   ]
  },
  {
   "cell_type": "code",
   "execution_count": 8,
   "metadata": {},
   "outputs": [
    {
     "data": {
      "text/plain": [
       "array([3, 2, 1, 4, 5])"
      ]
     },
     "execution_count": 8,
     "metadata": {},
     "output_type": "execute_result"
    }
   ],
   "source": [
    "num_of_classes = len(set(all_class_labels))# 8\n",
    "all_class_labels[:5]"
   ]
  },
  {
   "cell_type": "code",
   "execution_count": 34,
   "metadata": {},
   "outputs": [],
   "source": [
    "min_ = np.amax(all_mel_cepstral_coefficients)\n",
    "max_ = np.amin(all_mel_cepstral_coefficients)"
   ]
  },
  {
   "cell_type": "code",
   "execution_count": 36,
   "metadata": {},
   "outputs": [],
   "source": [
    "rescaled = (all_mel_cepstral_coefficients - min_) / (max_ - min_)"
   ]
  },
  {
   "cell_type": "code",
   "execution_count": 37,
   "metadata": {},
   "outputs": [],
   "source": [
    "X = rescaled.reshape(rescaled.shape[0], rescaled.shape[1],13,1)\n",
    "Y = keras.utils.to_categorical(all_class_labels, num_of_classes)"
   ]
  },
  {
   "cell_type": "code",
   "execution_count": 38,
   "metadata": {},
   "outputs": [
    {
     "data": {
      "text/plain": [
       "((360, 306, 13, 1), (360, 8))"
      ]
     },
     "execution_count": 38,
     "metadata": {},
     "output_type": "execute_result"
    }
   ],
   "source": [
    "X.shape, Y.shape"
   ]
  },
  {
   "cell_type": "code",
   "execution_count": 25,
   "metadata": {},
   "outputs": [],
   "source": [
    "# X no any normalization - ploho\n",
    "\n",
    "# from sklearn.preprocessing import MinMaxScaler\n",
    "# scaler = MinMaxScaler(feature_range=(0, 1))\n",
    "# rescaledX_train = scaler.fit_transform(X_train)"
   ]
  },
  {
   "cell_type": "code",
   "execution_count": 29,
   "metadata": {},
   "outputs": [],
   "source": [
    "# scaler = MinMaxScaler()"
   ]
  },
  {
   "cell_type": "code",
   "execution_count": 30,
   "metadata": {},
   "outputs": [],
   "source": [
    "# scaler.fit_transform(all_mel_cepstral_coefficients)"
   ]
  },
  {
   "cell_type": "code",
   "execution_count": null,
   "metadata": {},
   "outputs": [],
   "source": []
  },
  {
   "cell_type": "code",
   "execution_count": 40,
   "metadata": {},
   "outputs": [],
   "source": [
    "np.random.seed(7)"
   ]
  },
  {
   "cell_type": "code",
   "execution_count": 85,
   "metadata": {},
   "outputs": [],
   "source": [
    "X_train, X_test, Y_train, Y_test = train_test_split(X, Y)"
   ]
  },
  {
   "cell_type": "code",
   "execution_count": 86,
   "metadata": {
    "scrolled": true
   },
   "outputs": [],
   "source": [
    "model = models.Sequential()\n",
    "model.add(layers.Conv2D(20, kernel_size=5,padding='same', input_shape=X.shape[1:]))\n",
    "model.add(layers.Activation('relu'))\n",
    "model.add(layers.MaxPool2D(pool_size=(2,2), strides=(2,2)))\n",
    "\n",
    "model.add(layers.Flatten())\n",
    "model.add(layers.Dense(num_of_classes))\n",
    "model.add(layers.Lambda(lambda x: K.tf.nn.softmax(x)))\n",
    "# model.add(layers.Activation('softmax'))\n",
    "# model.summary()"
   ]
  },
  {
   "cell_type": "code",
   "execution_count": 87,
   "metadata": {},
   "outputs": [],
   "source": [
    "# https://www.kaggle.com/olgabelitskaya/multi-label-classification-models\n",
    "# model.compile(loss='binary_crossentropy', optimizer='sgd',metrics=['accuracy'])\n",
    "# sgd = optimizers.SGD(lr=0.01, decay=1e-6, momentum=0.9, nesterov=True)\n",
    "# model.compile(loss='categorical_crossentropy',\n",
    "#               optimizer='adam',\n",
    "#               metrics=['accuracy',])\n",
    "model.compile(loss='categorical_crossentropy', optimizer='adadelta', metrics=['accuracy'])\n",
    "# model.compile(loss='categorical_crossentropy', optimizer='nadam', metrics=['accuracy'])"
   ]
  },
  {
   "cell_type": "code",
   "execution_count": 88,
   "metadata": {
    "scrolled": false
   },
   "outputs": [
    {
     "name": "stdout",
     "output_type": "stream",
     "text": [
      "Train on 216 samples, validate on 54 samples\n",
      "Epoch 1/15\n",
      "216/216 [==============================] - 1s 4ms/step - loss: 2.1585 - acc: 0.0833 - val_loss: 2.0603 - val_acc: 0.1296\n",
      "Epoch 2/15\n",
      "216/216 [==============================] - 0s 1ms/step - loss: 2.0558 - acc: 0.1806 - val_loss: 2.0467 - val_acc: 0.1667\n",
      "Epoch 3/15\n",
      "216/216 [==============================] - 0s 1ms/step - loss: 1.9985 - acc: 0.2454 - val_loss: 2.2373 - val_acc: 0.0741\n",
      "Epoch 4/15\n",
      "216/216 [==============================] - 0s 1ms/step - loss: 1.9121 - acc: 0.2917 - val_loss: 2.0183 - val_acc: 0.2037\n",
      "Epoch 5/15\n",
      "216/216 [==============================] - 0s 1ms/step - loss: 1.8599 - acc: 0.3009 - val_loss: 2.1768 - val_acc: 0.1852\n",
      "Epoch 6/15\n",
      "216/216 [==============================] - 0s 1ms/step - loss: 1.7246 - acc: 0.4259 - val_loss: 2.0856 - val_acc: 0.1481\n",
      "Epoch 7/15\n",
      "216/216 [==============================] - 0s 1ms/step - loss: 1.5625 - acc: 0.4861 - val_loss: 2.1009 - val_acc: 0.0556\n",
      "Epoch 8/15\n",
      "216/216 [==============================] - 0s 1ms/step - loss: 1.3879 - acc: 0.5741 - val_loss: 1.8354 - val_acc: 0.2963\n",
      "Epoch 9/15\n",
      "216/216 [==============================] - 0s 1ms/step - loss: 1.3005 - acc: 0.5602 - val_loss: 1.8759 - val_acc: 0.2407\n",
      "Epoch 10/15\n",
      "216/216 [==============================] - 0s 1ms/step - loss: 1.0877 - acc: 0.6944 - val_loss: 1.8552 - val_acc: 0.3704\n",
      "Epoch 11/15\n",
      "216/216 [==============================] - 0s 1ms/step - loss: 1.0091 - acc: 0.7176 - val_loss: 1.9734 - val_acc: 0.3148\n",
      "Epoch 12/15\n",
      "216/216 [==============================] - 0s 1ms/step - loss: 0.8629 - acc: 0.6852 - val_loss: 2.4618 - val_acc: 0.3333\n",
      "Epoch 13/15\n",
      "216/216 [==============================] - 0s 1ms/step - loss: 0.7898 - acc: 0.8102 - val_loss: 1.8065 - val_acc: 0.3519\n",
      "Epoch 14/15\n",
      "216/216 [==============================] - 0s 2ms/step - loss: 0.6522 - acc: 0.8333 - val_loss: 1.8394 - val_acc: 0.2407\n",
      "Epoch 15/15\n",
      "216/216 [==============================] - 0s 1ms/step - loss: 0.5904 - acc: 0.8519 - val_loss: 1.9058 - val_acc: 0.3519\n"
     ]
    }
   ],
   "source": [
    "history = model.fit(X_train, Y_train, validation_split=0.2, batch_size=10, epochs=15, verbose=True)"
   ]
  },
  {
   "cell_type": "code",
   "execution_count": 89,
   "metadata": {},
   "outputs": [
    {
     "name": "stdout",
     "output_type": "stream",
     "text": [
      "90/90 [==============================] - 0s 225us/step\n"
     ]
    },
    {
     "data": {
      "text/plain": [
       "[2.123725700378418, 0.2888888892200258]"
      ]
     },
     "execution_count": 89,
     "metadata": {},
     "output_type": "execute_result"
    }
   ],
   "source": [
    "model.evaluate(X_test, Y_test)"
   ]
  },
  {
   "cell_type": "code",
   "execution_count": 90,
   "metadata": {},
   "outputs": [
    {
     "data": {
      "image/png": "[encoded data removed]",
      "text/plain": [
       "<matplotlib.figure.Figure at 0x7f42c7f5db70>"
      ]
     },
     "metadata": {},
     "output_type": "display_data"
    }
   ],
   "source": [
    "plt.plot(history.history['acc'])\n",
    "plt.title('model accuracy')\n",
    "plt.plot(history.history['val_acc'])\n",
    "plt.ylabel('accuracy')\n",
    "plt.xlabel('epoch')\n",
    "plt.legend(['train', 'test'], loc='upper left')\n",
    "plt.show()"
   ]
  },
  {
   "cell_type": "code",
   "execution_count": 91,
   "metadata": {},
   "outputs": [
    {
     "data": {
      "image/png": "[encoded data removed]",
      "text/plain": [
       "<matplotlib.figure.Figure at 0x7f42c7ec2dd8>"
      ]
     },
     "metadata": {},
     "output_type": "display_data"
    }
   ],
   "source": [
    "# summarize history for loss\n",
    "plt.plot(history.history['loss'])\n",
    "plt.plot(history.history['val_loss'])\n",
    "plt.title('model loss')\n",
    "plt.ylabel('loss')\n",
    "plt.xlabel('epoch')\n",
    "plt.legend(['train', 'test'], loc='upper left')\n",
    "plt.show()"
   ]
  },
  {
   "cell_type": "code",
   "execution_count": 19,
   "metadata": {},
   "outputs": [],
   "source": [
    "model.evaluate??"
   ]
  },
  {
   "cell_type": "code",
   "execution_count": 20,
   "metadata": {},
   "outputs": [
    {
     "data": {
      "text/plain": [
       "['loss', 'acc']"
      ]
     },
     "execution_count": 20,
     "metadata": {},
     "output_type": "execute_result"
    }
   ],
   "source": [
    "model.metrics_names"
   ]
  },
  {
   "cell_type": "code",
   "execution_count": null,
   "metadata": {},
   "outputs": [],
   "source": [
    "# pip3 install --upgrade keras==2.1.3"
   ]
  }
 ],
 "metadata": {
  "kernelspec": {
   "display_name": "Python 3",
   "language": "python",
   "name": "python3"
  },
  "language_info": {
   "codemirror_mode": {
    "name": "ipython",
    "version": 3
   },
   "file_extension": ".py",
   "mimetype": "text/x-python",
   "name": "python",
   "nbconvert_exporter": "python",
   "pygments_lexer": "ipython3",
   "version": "3.6.4"
  }
 },
 "nbformat": 4,
 "nbformat_minor": 2
}
