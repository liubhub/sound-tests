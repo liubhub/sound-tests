{
 "cells": [
  {
   "cell_type": "code",
   "execution_count": null,
   "metadata": {},
   "outputs": [],
   "source": [
    "# Short-time Fourier transform spectrograms were computed for 1-\n",
    "# second blocks of speech waveforms using Hamming window\n",
    "# frames of length 25 milliseconds with 12.5 milliseconds of overlap\n",
    "# between frames"
   ]
  },
  {
   "cell_type": "code",
   "execution_count": null,
   "metadata": {},
   "outputs": [],
   "source": [
    "# The dynamic range of spectral magnitudes\n",
    "# was normalized from -130 dB to -22 dB, representing the\n",
    "# respective minimum (Min) and maximum (Max) magnitude\n",
    "# values. These values were calculated for magnitude spectrograms\n",
    "# over the entire database. The magnitude spectrograms were\n",
    "# transformed into RGB or grey-scale images. The RGB images\n",
    "# were generated with the Matlab “jet” colormap [47,48] containing\n",
    "# 64 default colors. After downsampling to 227 x 227 pixels (using\n",
    "# the Matlab imresize command), the spectrogram images provided\n",
    "# input arrays to AlexNet (Figure 4). More details on the AlexNet\n",
    "# input arrangements are given in Section 4."
   ]
  }
 ],
 "metadata": {
  "kernelspec": {
   "display_name": "Python 3",
   "language": "python",
   "name": "python3"
  },
  "language_info": {
   "codemirror_mode": {
    "name": "ipython",
    "version": 3
   },
   "file_extension": ".py",
   "mimetype": "text/x-python",
   "name": "python",
   "nbconvert_exporter": "python",
   "pygments_lexer": "ipython3",
   "version": "3.6.4"
  }
 },
 "nbformat": 4,
 "nbformat_minor": 2
}
