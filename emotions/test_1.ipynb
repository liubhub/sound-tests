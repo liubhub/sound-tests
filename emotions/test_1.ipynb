{
 "cells": [
  {
   "cell_type": "code",
   "execution_count": 1,
   "metadata": {},
   "outputs": [],
   "source": [
    "import os"
   ]
  },
  {
   "cell_type": "code",
   "execution_count": 10,
   "metadata": {
    "scrolled": true
   },
   "outputs": [],
   "source": [
    "speech_path = 'RAVDESS/speech'\n",
    "actor = '/Actor_01_cp'"
   ]
  },
  {
   "cell_type": "markdown",
   "metadata": {},
   "source": [
    "Each of the RAVDESS files has a unique filename.\n",
    "The filename consists of a 7-part numerical identifier (e.g., 02-01-06-01-02-01-12.mp3).\n",
    "These identifiers define characteristics: \n",
    "\n",
    "Filename identifiers \n",
    "\n",
    "1) Modality (01 = full-AV, 02 = video-only, 03 = audio-only). \n",
    "\n",
    "2) Vocal channel (01 = speech, 02 = song).\n",
    "\n",
    "3) Emotion (01 = neutral, 02 = calm, 03 = happy, 04 = sad, 05 = angry, 06 = fearful, 07 = disgust, 08 = surprised).\n",
    "\n",
    "4) Emotional intensity (01 = normal, 02 = strong). NOTE: There is no strong intensity for the 'neutral' emotion.\n",
    "\n",
    "5) Statement (01 = \"Kids are talking by the door\", 02 = \"Dogs are sitting by the door\").\n",
    "\n",
    "6) Repetition (01 = 1st repetition, 02 = 2nd repetition).\n",
    "\n",
    "7) Actor (01 to 24. Odd numbered actors are male, even numbered actors are female)."
   ]
  },
  {
   "cell_type": "code",
   "execution_count": 37,
   "metadata": {},
   "outputs": [],
   "source": [
    "emotions_dict = {\n",
    "    '01':'neutral',\n",
    "    '02':'calm',\n",
    "    '03':'happy',\n",
    "    '04':'sad',\n",
    "    '05':'angry',\n",
    "    '06':'fearful',\n",
    "    '07':'disgust',\n",
    "    '08': 'surprised'\n",
    "}\n",
    "intensity_dict = {\n",
    "    '01':'normal',\n",
    "    '02':'strong'\n",
    "}"
   ]
  },
  {
   "cell_type": "code",
   "execution_count": 38,
   "metadata": {},
   "outputs": [],
   "source": [
    "def isOdd(n):\n",
    "    return int(n) % 2 != 0"
   ]
  },
  {
   "cell_type": "code",
   "execution_count": 39,
   "metadata": {},
   "outputs": [],
   "source": [
    "for _filename in os.listdir(speech_path + actor):\n",
    "    filename = _filename.split('.')[0].split('-')\n",
    "    gender = 'male' if isOdd(filename[6]) else 'female'\n",
    "    new_filename = emotions_dict[filename[2]] + \\\n",
    "        '-' + intensity_dict[filename[3]] + '-' \\\n",
    "        + filename[4] + '-' + filename[5] + '-' + gender + '.wav'\n",
    "        \n",
    "    os.rename(speech_path + actor + '/' + _filename, speech_path + actor + '/' + new_filename)"
   ]
  },
  {
   "cell_type": "code",
   "execution_count": 41,
   "metadata": {
    "collapsed": true
   },
   "outputs": [
    {
     "name": "stdout",
     "output_type": "stream",
     "text": [
      "Collecting librosa\n",
      "  Downloading https://files.pythonhosted.org/packages/09/b4/5b411f19de48f8fc1a0ff615555aa9124952e4156e94d4803377e50cfa4c/librosa-0.6.2.tar.gz (1.6MB)\n",
      "\u001b[K    100% |████████████████████████████████| 1.6MB 473kB/s ta 0:00:01\n",
      "\u001b[?25hCollecting audioread>=2.0.0 (from librosa)\n",
      "  Downloading https://files.pythonhosted.org/packages/f0/41/8cd160c6b2046b997d571a744a7f398f39e954a62dd747b2aae1ad7f07d4/audioread-2.1.6.tar.gz\n",
      "Requirement already satisfied: numpy>=1.8.0 in /home/lovely/anaconda3/lib/python3.6/site-packages (from librosa)\n",
      "Requirement already satisfied: scipy>=0.14.0 in /home/lovely/anaconda3/lib/python3.6/site-packages (from librosa)\n",
      "Requirement already satisfied: scikit-learn!=0.19.0,>=0.14.0 in /home/lovely/anaconda3/lib/python3.6/site-packages (from librosa)\n",
      "Collecting joblib>=0.12 (from librosa)\n",
      "  Downloading https://files.pythonhosted.org/packages/69/91/d217cec1fe6eac525ca964cd67e4f79b1d4ce68b64cb82d0b9ae1af2311e/joblib-0.12.5-py2.py3-none-any.whl (275kB)\n",
      "\u001b[K    100% |████████████████████████████████| 276kB 1.0MB/s ta 0:00:011\n",
      "\u001b[?25hRequirement already satisfied: decorator>=3.0.0 in /home/lovely/anaconda3/lib/python3.6/site-packages (from librosa)\n",
      "Requirement already satisfied: six>=1.3 in /home/lovely/anaconda3/lib/python3.6/site-packages (from librosa)\n",
      "Collecting resampy>=0.2.0 (from librosa)\n",
      "  Downloading https://files.pythonhosted.org/packages/14/b6/66a06d85474190b50aee1a6c09cdc95bb405ac47338b27e9b21409da1760/resampy-0.2.1.tar.gz (322kB)\n",
      "\u001b[K    100% |████████████████████████████████| 327kB 1.7MB/s ta 0:00:011\n",
      "\u001b[?25hCollecting numba>=0.38.0 (from librosa)\n",
      "  Downloading https://files.pythonhosted.org/packages/42/45/8d5fc45e5f760ac65906ba48dec98e99e7920c96783ac7248c5e31c9464e/numba-0.40.1-cp36-cp36m-manylinux1_x86_64.whl (3.2MB)\n",
      "\u001b[K    100% |████████████████████████████████| 3.2MB 231kB/s ta 0:00:011    60% |███████████████████▌            | 1.9MB 3.6MB/s eta 0:00:01\n",
      "\u001b[?25hCollecting llvmlite>=0.25.0dev0 (from numba>=0.38.0->librosa)\n",
      "  Downloading https://files.pythonhosted.org/packages/34/fb/f9c2e9e0ef2b54c52f0b727cf6af75b68c3d7ddb6d88c8d557b1b16bc1ab/llvmlite-0.25.0-cp36-cp36m-manylinux1_x86_64.whl (16.1MB)\n",
      "\u001b[K    100% |████████████████████████████████| 16.1MB 49kB/s eta 0:00:011    92% |█████████████████████████████▋  | 14.9MB 4.4MB/s eta 0:00:01\n",
      "\u001b[?25hBuilding wheels for collected packages: librosa, audioread, resampy\n",
      "  Running setup.py bdist_wheel for librosa ... \u001b[?25ldone\n",
      "\u001b[?25h  Stored in directory: /home/lovely/.cache/pip/wheels/18/b8/10/f0f8f6ac60668a5cd75596cf14c25bb6b3ea1ecd815f058b7e\n",
      "  Running setup.py bdist_wheel for audioread ... \u001b[?25ldone\n",
      "\u001b[?25h  Stored in directory: /home/lovely/.cache/pip/wheels/53/02/90/7b5c4081b7470c550ab605f600bad237dde12a6b8999b11f50\n",
      "  Running setup.py bdist_wheel for resampy ... \u001b[?25ldone\n",
      "\u001b[?25h  Stored in directory: /home/lovely/.cache/pip/wheels/ff/4f/ed/2e6c676c23efe5394bb40ade50662e90eb46e29b48324c5f9b\n",
      "Successfully built librosa audioread resampy\n",
      "Installing collected packages: audioread, joblib, llvmlite, numba, resampy, librosa\n",
      "  Found existing installation: llvmlite 0.21.0\n",
      "    Uninstalling llvmlite-0.21.0:\n",
      "      Successfully uninstalled llvmlite-0.21.0\n",
      "  Found existing installation: numba 0.36.2\n",
      "    Uninstalling numba-0.36.2:\n",
      "      Successfully uninstalled numba-0.36.2\n",
      "Successfully installed audioread-2.1.6 joblib-0.12.5 librosa-0.6.2 llvmlite-0.25.0 numba-0.40.1 resampy-0.2.1\n",
      "\u001b[33mYou are using pip version 9.0.1, however version 18.1 is available.\n",
      "You should consider upgrading via the 'pip install --upgrade pip' command.\u001b[0m\n"
     ]
    }
   ],
   "source": [
    "!pip install librosa"
   ]
  },
  {
   "cell_type": "code",
   "execution_count": 64,
   "metadata": {
    "collapsed": true
   },
   "outputs": [
    {
     "data": {
      "text/plain": [
       "['neutral-normal-01-01-male.wav',\n",
       " 'happy-normal-02-01-male.wav',\n",
       " 'angry-normal-01-01-male.wav',\n",
       " 'disgust-strong-02-02-male.wav',\n",
       " 'neutral-normal-02-02-male.wav',\n",
       " 'angry-normal-01-02-male.wav',\n",
       " 'sad-strong-01-01-male.wav',\n",
       " 'calm-strong-01-02-male.wav',\n",
       " 'calm-normal-01-02-male.wav',\n",
       " 'calm-normal-02-02-male.wav',\n",
       " 'neutral-normal-01-02-male.wav',\n",
       " 'surprised-normal-02-01-male.wav',\n",
       " 'disgust-normal-01-01-male.wav',\n",
       " 'angry-normal-02-01-male.wav',\n",
       " 'fearful-normal-02-01-male.wav',\n",
       " 'surprised-normal-02-02-male.wav',\n",
       " 'happy-strong-01-02-male.wav',\n",
       " 'fearful-normal-01-02-male.wav',\n",
       " 'angry-strong-01-02-male.wav',\n",
       " 'fearful-normal-02-02-male.wav',\n",
       " 'fearful-strong-01-01-male.wav',\n",
       " 'sad-strong-01-02-male.wav',\n",
       " 'surprised-strong-02-02-male.wav',\n",
       " 'disgust-normal-01-02-male.wav',\n",
       " 'calm-normal-02-01-male.wav',\n",
       " 'happy-strong-02-02-male.wav',\n",
       " 'fearful-strong-01-02-male.wav',\n",
       " 'calm-strong-01-01-male.wav',\n",
       " 'calm-strong-02-01-male.wav',\n",
       " 'happy-normal-01-02-male.wav',\n",
       " 'surprised-strong-01-02-male.wav',\n",
       " 'sad-normal-01-01-male.wav',\n",
       " 'angry-strong-02-01-male.wav',\n",
       " 'surprised-strong-02-01-male.wav',\n",
       " 'calm-strong-02-02-male.wav',\n",
       " 'sad-normal-02-02-male.wav',\n",
       " 'surprised-normal-01-01-male.wav',\n",
       " 'disgust-normal-02-01-male.wav',\n",
       " 'sad-strong-02-01-male.wav',\n",
       " 'sad-strong-02-02-male.wav',\n",
       " 'neutral-normal-02-01-male.wav',\n",
       " 'calm-normal-01-01-male.wav',\n",
       " 'surprised-normal-01-02-male.wav',\n",
       " 'happy-normal-02-02-male.wav',\n",
       " 'fearful-strong-02-02-male.wav',\n",
       " 'angry-normal-02-02-male.wav',\n",
       " 'angry-strong-02-02-male.wav',\n",
       " 'surprised-strong-01-01-male.wav',\n",
       " 'angry-strong-01-01-male.wav',\n",
       " 'sad-normal-02-01-male.wav',\n",
       " 'happy-strong-01-01-male.wav',\n",
       " 'disgust-strong-01-02-male.wav',\n",
       " 'sad-normal-01-02-male.wav',\n",
       " 'disgust-strong-01-01-male.wav',\n",
       " 'fearful-normal-01-01-male.wav',\n",
       " 'happy-strong-02-01-male.wav',\n",
       " 'fearful-strong-02-01-male.wav',\n",
       " 'happy-normal-01-01-male.wav',\n",
       " 'disgust-normal-02-02-male.wav',\n",
       " 'disgust-strong-02-01-male.wav']"
      ]
     },
     "execution_count": 64,
     "metadata": {},
     "output_type": "execute_result"
    }
   ],
   "source": [
    "os.listdir(speech_path + actor)"
   ]
  },
  {
   "cell_type": "code",
   "execution_count": 59,
   "metadata": {},
   "outputs": [],
   "source": [
    "import librosa\n",
    "import librosa.display\n",
    "import matplotlib.pyplot as plt\n",
    "%matplotlib inline"
   ]
  },
  {
   "cell_type": "code",
   "execution_count": 65,
   "metadata": {},
   "outputs": [],
   "source": [
    "from scipy.io.wavfile import read as read_wav"
   ]
  },
  {
   "cell_type": "code",
   "execution_count": 72,
   "metadata": {},
   "outputs": [],
   "source": [
    "# sampling_rate, data=read_wav(speech_path+actor+'/'+ 'angry-normal-01-01-male.wav') "
   ]
  },
  {
   "cell_type": "code",
   "execution_count": 43,
   "metadata": {},
   "outputs": [],
   "source": [
    "librosa.feature.mfcc??"
   ]
  },
  {
   "cell_type": "code",
   "execution_count": null,
   "metadata": {},
   "outputs": [],
   "source": [
    "# http://practicalcryptography.com/miscellaneous/machine-learning/guide-mel-frequency-cepstral-coefficients-mfccs/"
   ]
  },
  {
   "cell_type": "code",
   "execution_count": null,
   "metadata": {},
   "outputs": [],
   "source": [
    "# angry"
   ]
  },
  {
   "cell_type": "code",
   "execution_count": 79,
   "metadata": {},
   "outputs": [],
   "source": [
    "data, sr = librosa.load(speech_path+actor+'/'+ 'angry-strong-01-01-male.wav', sr=48000)"
   ]
  },
  {
   "cell_type": "code",
   "execution_count": 80,
   "metadata": {},
   "outputs": [
    {
     "data": {
      "text/plain": [
       "((196997,), 48000)"
      ]
     },
     "execution_count": 80,
     "metadata": {},
     "output_type": "execute_result"
    }
   ],
   "source": [
    "data.shape, sr"
   ]
  },
  {
   "cell_type": "code",
   "execution_count": 81,
   "metadata": {},
   "outputs": [],
   "source": [
    "S = librosa.feature.melspectrogram(y=data, sr=sr, n_mels=128, fmax=8000)"
   ]
  },
  {
   "cell_type": "code",
   "execution_count": 82,
   "metadata": {},
   "outputs": [],
   "source": [
    "mfccs = librosa.feature.mfcc(y=data, sr=sr, n_mfcc=40)"
   ]
  },
  {
   "cell_type": "code",
   "execution_count": 83,
   "metadata": {},
   "outputs": [
    {
     "data": {
      "image/png": "[encoded data removed]",
      "text/plain": [
       "<matplotlib.figure.Figure at 0x7f3013f3ebe0>"
      ]
     },
     "metadata": {},
     "output_type": "display_data"
    }
   ],
   "source": [
    "plt.figure(figsize=(10, 4))\n",
    "librosa.display.specshow(mfccs, x_axis='time')\n",
    "plt.colorbar()\n",
    "plt.title('MFCC')\n",
    "plt.tight_layout()"
   ]
  },
  {
   "cell_type": "code",
   "execution_count": 84,
   "metadata": {},
   "outputs": [
    {
     "data": {
      "image/png": "[encoded data removed]",
      "text/plain": [
       "<matplotlib.figure.Figure at 0x7f3013ec5e10>"
      ]
     },
     "metadata": {},
     "output_type": "display_data"
    }
   ],
   "source": [
    "data, sr = librosa.load(speech_path+actor+'/'+ 'calm-normal-01-01-male.wav', sr=48000)\n",
    "S = librosa.feature.melspectrogram(y=data, sr=sr, n_mels=128, fmax=8000)\n",
    "mfccs = librosa.feature.mfcc(y=data, sr=sr, n_mfcc=40)\n",
    "plt.figure(figsize=(10, 4))\n",
    "librosa.display.specshow(mfccs, x_axis='time')\n",
    "plt.colorbar()\n",
    "plt.title('MFCC')\n",
    "plt.tight_layout()"
   ]
  },
  {
   "cell_type": "code",
   "execution_count": 44,
   "metadata": {},
   "outputs": [],
   "source": [
    "# y, sr = librosa.load(librosa.util.example_audio_file(), offset=30, duration=5)"
   ]
  },
  {
   "cell_type": "code",
   "execution_count": 61,
   "metadata": {},
   "outputs": [],
   "source": [
    "# librosa.feature.mfcc(S=librosa.power_to_db(S))"
   ]
  },
  {
   "cell_type": "code",
   "execution_count": null,
   "metadata": {},
   "outputs": [],
   "source": []
  }
 ],
 "metadata": {
  "kernelspec": {
   "display_name": "Python 3",
   "language": "python",
   "name": "python3"
  },
  "language_info": {
   "codemirror_mode": {
    "name": "ipython",
    "version": 3
   },
   "file_extension": ".py",
   "mimetype": "text/x-python",
   "name": "python",
   "nbconvert_exporter": "python",
   "pygments_lexer": "ipython3",
   "version": "3.6.4"
  }
 },
 "nbformat": 4,
 "nbformat_minor": 2
}
